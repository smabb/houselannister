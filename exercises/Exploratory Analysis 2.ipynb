{
  "nbformat": 4,
  "nbformat_minor": 0,
  "metadata": {
    "colab": {
      "name": "Untitled5.ipynb",
      "provenance": [],
      "authorship_tag": "ABX9TyOtGFr/NGoKhjPHp2+pNNhW",
      "include_colab_link": true
    },
    "kernelspec": {
      "name": "python3",
      "display_name": "Python 3"
    }
  },
  "cells": [
    {
      "cell_type": "markdown",
      "metadata": {
        "id": "view-in-github",
        "colab_type": "text"
      },
      "source": [
        "<a href=\"https://colab.research.google.com/github/smabb/houselannister/blob/master/exercises/Exploratory%20Analysis%202.ipynb\" target=\"_parent\"><img src=\"https://colab.research.google.com/assets/colab-badge.svg\" alt=\"Open In Colab\"/></a>"
      ]
    },
    {
      "cell_type": "markdown",
      "metadata": {
        "id": "JbeTlWeD1HSn"
      },
      "source": [
        "\n",
        "\n",
        "You are a given a group of Sales files to analyze and answer the following questions.<br>\n",
        "Data Columns: <br>\n",
        "Order ID: ID of the order. Duplicated if items are from the same order.<br>\n",
        "Product<br>\n",
        "Quantity Ordered <br>\n",
        "Price Each<br>\n",
        "Order Date <br>\n",
        "Purchase Address: Formated as   Address, City, State ZIP-Code     <br>    "
      ]
    },
    {
      "cell_type": "markdown",
      "metadata": {
        "id": "IJ9za7nI1ei3"
      },
      "source": [
        "**Import Libraries all necessary libraries here.**\n"
      ]
    },
    {
      "cell_type": "code",
      "metadata": {
        "id": "-izDZkBi1iBw"
      },
      "source": [
        ""
      ],
      "execution_count": null,
      "outputs": []
    },
    {
      "cell_type": "markdown",
      "metadata": {
        "id": "lg63Nm5O1ivZ"
      },
      "source": [
        "**Create a Dataframe form the csv files**"
      ]
    },
    {
      "cell_type": "code",
      "metadata": {
        "id": "QgyZSWtK1qUc"
      },
      "source": [
        ""
      ],
      "execution_count": null,
      "outputs": []
    },
    {
      "cell_type": "markdown",
      "metadata": {
        "id": "v_hmHt3I3GyA"
      },
      "source": [
        "Data Analysis:\n",
        "As you perform operations you will face errors with regards to dirty data. Based on these errors take the necessary steps to clean the data.<br>**Update the next Cell with data cleaning code and functions where necessary.**"
      ]
    },
    {
      "cell_type": "code",
      "metadata": {
        "id": "s3pkhHnw3SZ9"
      },
      "source": [
        ""
      ],
      "execution_count": null,
      "outputs": []
    },
    {
      "cell_type": "markdown",
      "metadata": {
        "id": "SH3NncpW2jab"
      },
      "source": [
        "**Q1) Which Month has the highest Sales income?**<br>\n",
        "Plot a bar graph showing earnings in each month."
      ]
    },
    {
      "cell_type": "code",
      "metadata": {
        "id": "r0qPB4vj3TM9"
      },
      "source": [
        ""
      ],
      "execution_count": null,
      "outputs": []
    },
    {
      "cell_type": "markdown",
      "metadata": {
        "id": "j_X1sMru3T5F"
      },
      "source": [
        "**Q2) Which state bought the most Products(in terms of Quantity , not income )?** <br>\n",
        "Plot a bar graph showing displaying the results."
      ]
    },
    {
      "cell_type": "code",
      "metadata": {
        "id": "JDoMrRXy4K5E"
      },
      "source": [
        ""
      ],
      "execution_count": null,
      "outputs": []
    },
    {
      "cell_type": "markdown",
      "metadata": {
        "id": "2uCcNV7p4MKU"
      },
      "source": [
        "**Q3): What is the best time to display advertisements to increase sales?** <br>Plot a line graph displaying the results(x: hours ,y: quantity sold in that hour)"
      ]
    },
    {
      "cell_type": "code",
      "metadata": {
        "id": "iUQHlKmH41yd"
      },
      "source": [
        ""
      ],
      "execution_count": null,
      "outputs": []
    },
    {
      "cell_type": "markdown",
      "metadata": {
        "id": "4Rl9zPwV42d0"
      },
      "source": [
        "**Q4) What product had the highest sales count? Did the product generate the highest  income?** <br>\n",
        "Plot on the same graph(not subplots):<br>\n",
        "-A bar chart showing the product vs quantity ordered<br>\n",
        "-A line graph showing the income from product sales."
      ]
    },
    {
      "cell_type": "code",
      "metadata": {
        "id": "XD5c5Van7_0L"
      },
      "source": [
        ""
      ],
      "execution_count": null,
      "outputs": []
    },
    {
      "cell_type": "markdown",
      "metadata": {
        "id": "mK6v41oQ8AW7"
      },
      "source": [
        "Extra <br>\n",
        "**Q5) What pair of products are sold together the most?**<br>\n",
        "Hint1: https://stackoverflow.com/questions/52195887/counting-unique-pairs-of-numbers-into-a-python-dictionary"
      ]
    },
    {
      "cell_type": "code",
      "metadata": {
        "id": "TvK3GNTM8flf"
      },
      "source": [
        ""
      ],
      "execution_count": null,
      "outputs": []
    }
  ]
}