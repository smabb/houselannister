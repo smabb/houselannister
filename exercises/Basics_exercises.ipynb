{
  "nbformat": 4,
  "nbformat_minor": 0,
  "metadata": {
    "colab": {
      "name": "Untitled4.ipynb",
      "provenance": [],
      "authorship_tag": "ABX9TyPxA4+LH8Sn1T8J3ogQIZiQ",
      "include_colab_link": true
    },
    "kernelspec": {
      "name": "python3",
      "display_name": "Python 3"
    }
  },
  "cells": [
    {
      "cell_type": "markdown",
      "metadata": {
        "id": "view-in-github",
        "colab_type": "text"
      },
      "source": [
        "<a href=\"https://colab.research.google.com/github/smabb/houselannister/blob/master/exercises/Basics_exercises.ipynb\" target=\"_parent\"><img src=\"https://colab.research.google.com/assets/colab-badge.svg\" alt=\"Open In Colab\"/></a>"
      ]
    },
    {
      "cell_type": "markdown",
      "metadata": {
        "id": "odbVOYUUMgEV",
        "colab_type": "text"
      },
      "source": [
        "# Define a function that takes a list of lists and returns a new list of\n",
        "lists with a student's name and their average grade in each sublist."
      ]
    },
    {
      "cell_type": "code",
      "metadata": {
        "id": "IHtYDqZKMX60",
        "colab_type": "code",
        "colab": {}
      },
      "source": [
        "def average_grade(lst):    \n",
        "    \"\"\" Return students' names and their average grades.\n",
        "     average_grade([['Bob', 56, 80, 72, 90], ['Alice', 60, 88, 44, 70]])\n",
        "     [['Bob', 74.5], ['Alice', 65.5]]\n",
        "    \"\"\"\n",
        "\n",
        "    # your code here\n"
      ],
      "execution_count": 0,
      "outputs": []
    },
    {
      "cell_type": "markdown",
      "metadata": {
        "id": "UwKor15hM2_S",
        "colab_type": "text"
      },
      "source": [
        "# Create a function that returns a dictionary of the items of a list\n",
        "and their counts."
      ]
    },
    {
      "cell_type": "code",
      "metadata": {
        "id": "UVm2fvAlM7Pi",
        "colab_type": "code",
        "colab": {}
      },
      "source": [
        "def count_items(lst):    \n",
        "    \"\"\" Return counts of the list items.\n",
        "    \n",
        "    >>> count_items(['one', 'two', 'two', 'three', 'three', 'three'])\n",
        "    >>> {'one': 1, 'three': 3, 'two': 2}\n",
        "    \"\"\"\n",
        "\n",
        "    # your code here"
      ],
      "execution_count": 0,
      "outputs": []
    },
    {
      "cell_type": "markdown",
      "metadata": {
        "id": "o86XgJM2NB5U",
        "colab_type": "text"
      },
      "source": [
        "# Define a function that takes a word as an argument, returns a list of\n",
        "truth values i.e., True for a vowel in the word, False for a non-vowel."
      ]
    },
    {
      "cell_type": "code",
      "metadata": {
        "id": "ULqJCO00NDzE",
        "colab_type": "code",
        "colab": {}
      },
      "source": [
        "def find_vowels(word):\n",
        "    \"\"\" Return a list containing a True for a vowel in the word,\n",
        "        a False for a non-vowel.\n",
        "    \n",
        "    >>> find_vowels('detestable')\n",
        "    >>> [False, True, False, True, False, False, True, False, False, True]\n",
        "    \"\"\"\n",
        "\n",
        "    # your code here"
      ],
      "execution_count": 0,
      "outputs": []
    },
    {
      "cell_type": "markdown",
      "metadata": {
        "id": "qJiBYvC2NI09",
        "colab_type": "text"
      },
      "source": [
        "#Return the first vowel in each word of a string."
      ]
    },
    {
      "cell_type": "code",
      "metadata": {
        "id": "6mJ880-JNMY_",
        "colab_type": "code",
        "colab": {}
      },
      "source": [
        "def find_first_vowel(S: str) -> str:\n",
        "    \"\"\" Return the first vowel in each word of a string.\n",
        "    \n",
        "    >>> find_first_vowel(\"The sky's the limit\")\n",
        "    'e, e, i'\n",
        "    \"\"\"\n",
        "\n",
        "    # your code here"
      ],
      "execution_count": 0,
      "outputs": []
    },
    {
      "cell_type": "markdown",
      "metadata": {
        "id": "EngzizMeNXxn",
        "colab_type": "text"
      },
      "source": [
        "# Write a program that takes a full name, prints the initials of the first,\n",
        "middle, and last name. If the middle name is “NA”, then the program\n",
        "should print only the initials of the first and the last name."
      ]
    },
    {
      "cell_type": "code",
      "metadata": {
        "id": "HskOBk4XNYip",
        "colab_type": "code",
        "colab": {}
      },
      "source": [
        "\n",
        "def get_initials(name):\n",
        "    \"\"\" Return initials of first, last and middle name.\n",
        "    If the middle name is 'NA', return only the initials of the first and the last name.\n",
        "    \n",
        "    >>> get_initials(\"Alfred E. Newman\")\n",
        "    >>> 'A.E.N.'\n",
        "    >>> get_initials(\"John NA Smith\")\n",
        "    >>> 'J.S.'\n",
        "    \"\"\"\n",
        "\n",
        "    # your code here"
      ],
      "execution_count": 0,
      "outputs": []
    },
    {
      "cell_type": "markdown",
      "metadata": {
        "id": "8uhqUimWQO4A",
        "colab_type": "text"
      },
      "source": [
        "#Write a funtion that does the following:\n",
        "    #Return '******' if the input list is [], [''], or a list containing names of equal length.\n",
        "    #Else, return the name that is greater in length than any other name\n",
        "    in the list."
      ]
    },
    {
      "cell_type": "code",
      "metadata": {
        "id": "z6D36nt-Nwkk",
        "colab_type": "code",
        "colab": {}
      },
      "source": [
        "def get_longest_name(a_list):\n",
        "    \n",
        "    >>> get_longest_name([\"Candide\", \"Jessie\", \"Kath\", \"Amity\", \"Raeanne\"])\n",
        "    >>> '******'\n",
        "    >>> get_longest_name([\"Jessie\", \"Kath\", \"Amity\", \"Raeanne\"])\n",
        "    >>> 'Raeanne'\n",
        "    >>> get_longest_name([\"Jessie\", \"Kath\", \"Amity\"])\n",
        "    >>> 'Jessie'\n",
        "    \"\"\"\n",
        "\n",
        "    # your code here"
      ],
      "execution_count": 0,
      "outputs": []
    },
    {
      "cell_type": "markdown",
      "metadata": {
        "id": "SecmXcJLN3lk",
        "colab_type": "text"
      },
      "source": [
        "#Return a new list with the smallest value in the input list.\n",
        "Before returning the new list, remove the value from the original list"
      ]
    },
    {
      "cell_type": "code",
      "metadata": {
        "id": "5ITMee2bN347",
        "colab_type": "code",
        "colab": {}
      },
      "source": [
        "def get_min(numbers):\n",
        "    \"\"\" Return a new list with the smallest value in the input list.\n",
        "    Before returning the new list, remove the value from the original list.\n",
        "    >>> nums = [3, 4, 1]\n",
        "    >>> get_min(nums)\n",
        "    >>> [1]\n",
        "    >>> nums\n",
        "    >>> [3, 4]\n",
        "    \"\"\"\n"
      ],
      "execution_count": 0,
      "outputs": []
    },
    {
      "cell_type": "markdown",
      "metadata": {
        "id": "2CLWF9LrODBW",
        "colab_type": "text"
      },
      "source": [
        "# Define a function that does this:\n",
        "Given a list of strings, with each string having a student’s name and\n",
        "their grades, mutate the input list so the original string positions are\n",
        "replaced with their average grades. The function doesn’t need an explicit\n",
        "return statement."
      ]
    },
    {
      "cell_type": "code",
      "metadata": {
        "id": "pmpR_70KODuB",
        "colab_type": "code",
        "colab": {}
      },
      "source": [
        "def get_averages(lst):\n",
        "    # your code here\n",
        "\n",
        "\n",
        "reports = ['Anna, 50, 92, 80', 'Bill, 60, 70', 'Cal, 98.5, 100, 95.5, 98']\n",
        "get_averages(reports)\n",
        "print(reports)\n",
        "# [74.0, 65.0, 98.0]"
      ],
      "execution_count": 0,
      "outputs": []
    },
    {
      "cell_type": "markdown",
      "metadata": {
        "id": "P1aZy2W5OGm7",
        "colab_type": "text"
      },
      "source": [
        "# Words in a string that occur exactly once"
      ]
    },
    {
      "cell_type": "code",
      "metadata": {
        "id": "Tn5Fo5H_OVQc",
        "colab_type": "code",
        "colab": {}
      },
      "source": [
        "def unique_words(text):\n",
        "    \"\"\" Return a set of the words in text that occur exactly once.\n",
        "    \n",
        "    >>> unique_words(\"The boy jumped over the other boy\")\n",
        "    >>> {'jumped', 'other', 'over'}\n",
        "    \"\"\"\n",
        "\n",
        "    # your code here"
      ],
      "execution_count": 0,
      "outputs": []
    },
    {
      "cell_type": "markdown",
      "metadata": {
        "id": "4tdDKpLLOYE8",
        "colab_type": "text"
      },
      "source": [
        "# Pick words of certain length from a string, but ignore punctuation"
      ]
    },
    {
      "cell_type": "code",
      "metadata": {
        "id": "z3p4eS7COZpV",
        "colab_type": "code",
        "colab": {}
      },
      "source": [
        "def find_words_of_length(number, text):\n",
        "    \"\"\" Remove punctuation from text, then return words of length number.\n",
        "    \n",
        "    >>> find_words_of_length(4, \"this is a string with some four-letter words.\")\n",
        "    >>> ['this', 'with', 'some']\n",
        "    \"\"\"\n",
        "\n",
        "    # your code here"
      ],
      "execution_count": 0,
      "outputs": []
    },
    {
      "cell_type": "markdown",
      "metadata": {
        "id": "YxultZ1dO2c-",
        "colab_type": "text"
      },
      "source": [
        "#Define a function that takes a list of dicts and returns a dict with values added to existing keys."
      ]
    },
    {
      "cell_type": "code",
      "metadata": {
        "id": "3w-09ETbO4mz",
        "colab_type": "code",
        "colab": {}
      },
      "source": [
        "def combine_dict_values(dict_list):\n",
        "    \"\"\" Return a dict with values added to existing keys\n",
        "    \n",
        "    d_list = [{'Money': .3, 'Strength': .25, 'Speed': .05},\n",
        "                {'Money': .3, 'Age': 25, 'Speed': .7}, \n",
        "                {'Money': .3, 'Strength': .25, 'Power': 5}]\n",
        "    \n",
        "    >>> combine_dict_values(d_list)\n",
        "    {'Age': 25,\n",
        "    'Money': 0.8999999999999999,\n",
        "    'Power': 5,\n",
        "    'Speed': 0.75,\n",
        "    'Strength': 0.5}\n",
        "    \"\"\"\n",
        "        \n",
        "    # your code here"
      ],
      "execution_count": 0,
      "outputs": []
    },
    {
      "cell_type": "markdown",
      "metadata": {
        "id": "dhDrI98pPLg-",
        "colab_type": "text"
      },
      "source": [
        "#Define a function that takes two dictionaries with overlapping keys and returns a result as shown below."
      ]
    },
    {
      "cell_type": "code",
      "metadata": {
        "id": "w6tW9_zsPM66",
        "colab_type": "code",
        "colab": {}
      },
      "source": [
        "def join_dicts(dict1, dict2):\n",
        "    \"\"\" Return dict1 after extending it with dict2\n",
        "    \n",
        "    >>> join_dicts({1:'a', 2:'b', 3:'c'}, {1:'d', 2:'e'})\n",
        "    {1: 'a', 2: 'b', 3: 'c', 4: 'd', 5: 'e'}\n",
        "    \"\"\"\n",
        "    \n",
        "    # Your code here"
      ],
      "execution_count": 0,
      "outputs": []
    }
  ]
}